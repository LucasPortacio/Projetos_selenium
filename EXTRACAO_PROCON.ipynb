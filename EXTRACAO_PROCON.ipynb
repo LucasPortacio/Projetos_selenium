{
 "cells": [
  {
   "cell_type": "code",
   "execution_count": 1,
   "metadata": {},
   "outputs": [],
   "source": [
    "from selenium import webdriver\n",
    "from webdriver_manager.chrome import ChromeDriverManager\n",
    "from selenium.webdriver.common.by import By\n",
    "from selenium.webdriver.chrome.service import Service\n",
    "import datetime\n",
    "import time\n",
    "import shutil"
   ]
  },
  {
   "cell_type": "code",
   "execution_count": 2,
   "metadata": {},
   "outputs": [],
   "source": [
    "# Instalando o ChromeDriver\n",
    "\n",
    "servico = Service(ChromeDriverManager().install())"
   ]
  },
  {
   "cell_type": "code",
   "execution_count": 3,
   "metadata": {},
   "outputs": [],
   "source": [
    "# Configuração do Selenium com headless nova versão\n",
    "\n",
    "options = webdriver.ChromeOptions()\n",
    "options.add_argument('--headless=new')\n",
    "navegador = webdriver.Chrome(options=options, service=servico)"
   ]
  },
  {
   "cell_type": "code",
   "execution_count": 4,
   "metadata": {},
   "outputs": [],
   "source": [
    "# Abrir o site\n",
    "navegador.get(\"https://bloqueio.procon.sp.gov.br/#/signIn/supplier\")"
   ]
  },
  {
   "cell_type": "code",
   "execution_count": 5,
   "metadata": {},
   "outputs": [],
   "source": [
    "# Preencher as credenciais\n",
    "usuario = navegador.find_element(By.XPATH, '//*[@id=\"conteudo-interno\"]/div[1]/div/form/div[1]/div/input')\n",
    "senha = navegador.find_element(By.XPATH, '//*[@id=\"conteudo-interno\"]/div[1]/div/form/div[2]/div/input')"
   ]
  },
  {
   "cell_type": "code",
   "execution_count": 6,
   "metadata": {},
   "outputs": [],
   "source": [
    "usuario.send_keys(\"07.777.738/0001-09\")\n",
    "senha.send_keys(\"mf@2023\")\n",
    "login_button = navegador.find_element(By.XPATH, '//*[@id=\"conteudo-interno\"]/div[1]/div/form/div[4]/button')\n",
    "login_button.click()\n",
    "\n",
    "time.sleep(10) "
   ]
  },
  {
   "cell_type": "code",
   "execution_count": 7,
   "metadata": {},
   "outputs": [],
   "source": [
    "# Clicar no botão \"Exportar para Excel\"\n",
    "export_button = navegador.find_element(By.XPATH, '//*[@id=\"conteudo-interno\"]/div/div[1]/div[2]/div/div[2]/button[2]')\n",
    "export_button.click()"
   ]
  },
  {
   "cell_type": "code",
   "execution_count": 8,
   "metadata": {},
   "outputs": [],
   "source": [
    "time.sleep(10) "
   ]
  },
  {
   "cell_type": "code",
   "execution_count": 9,
   "metadata": {},
   "outputs": [],
   "source": [
    "# Especifique o caminho completo para a pasta de destino\n",
    "pasta_destino = \"F:/Documentos/07.PYTHON/\""
   ]
  },
  {
   "cell_type": "code",
   "execution_count": 10,
   "metadata": {},
   "outputs": [],
   "source": [
    "# Obtenha o nome do arquivo baixado (pode variar)\n",
    "\n",
    "previa_arquivo = \"excel_phones_\"\n",
    "data = datetime.datetime.today() \n",
    "data_arquivo = data.strftime('%d_%m_%Y')\n",
    "extensao = \".xlsx\"\n",
    "\n",
    "nome_arquivo = (f'{previa_arquivo}{data_arquivo}{extensao}')\n"
   ]
  },
  {
   "cell_type": "code",
   "execution_count": 11,
   "metadata": {},
   "outputs": [],
   "source": [
    "# Especifique o caminho dowloads\n",
    "pasta_download = \"C:/Users/Lucas Gomes/Downloads/\""
   ]
  },
  {
   "cell_type": "code",
   "execution_count": 12,
   "metadata": {},
   "outputs": [],
   "source": [
    "# Combine os caminhos completos dos arquivos\n",
    "caminho_arquivo_origem = pasta_download + nome_arquivo\n",
    "caminho_arquivo_destino = pasta_destino + nome_arquivo"
   ]
  },
  {
   "cell_type": "code",
   "execution_count": 13,
   "metadata": {},
   "outputs": [
    {
     "data": {
      "text/plain": [
       "'F:/Documentos/07.PYTHON/excel_phones_15_10_2023.xlsx'"
      ]
     },
     "execution_count": 13,
     "metadata": {},
     "output_type": "execute_result"
    }
   ],
   "source": [
    "# Mova o arquivo para a pasta de destino\n",
    "shutil.move(caminho_arquivo_origem, caminho_arquivo_destino)"
   ]
  },
  {
   "cell_type": "code",
   "execution_count": 14,
   "metadata": {},
   "outputs": [],
   "source": [
    "# Fechar o navegador\n",
    "navegador.quit()"
   ]
  }
 ],
 "metadata": {
  "kernelspec": {
   "display_name": "venv",
   "language": "python",
   "name": "python3"
  },
  "language_info": {
   "codemirror_mode": {
    "name": "ipython",
    "version": 3
   },
   "file_extension": ".py",
   "mimetype": "text/x-python",
   "name": "python",
   "nbconvert_exporter": "python",
   "pygments_lexer": "ipython3",
   "version": "3.11.4"
  },
  "orig_nbformat": 4
 },
 "nbformat": 4,
 "nbformat_minor": 2
}
