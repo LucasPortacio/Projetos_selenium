{
 "cells": [
  {
   "cell_type": "code",
   "execution_count": 29,
   "metadata": {},
   "outputs": [],
   "source": [
    "from selenium import webdriver\n",
    "from webdriver_manager.chrome import ChromeDriverManager\n",
    "from selenium.webdriver.common.by import By\n",
    "from selenium.webdriver.chrome.service import Service\n",
    "import datetime\n",
    "import time\n",
    "import shutil\n",
    "import os"
   ]
  },
  {
   "cell_type": "code",
   "execution_count": 30,
   "metadata": {},
   "outputs": [],
   "source": [
    "# Instalando o ChromeDriver de forma automática\n",
    "\n",
    "servico = Service(ChromeDriverManager().install())"
   ]
  },
  {
   "cell_type": "code",
   "execution_count": 31,
   "metadata": {},
   "outputs": [],
   "source": [
    "# Configuração do Selenium com headless nova versão\n",
    "\n",
    "options = webdriver.ChromeOptions()\n",
    "options.add_argument('--headless=new')\n",
    "navegador = webdriver.Chrome(options=options, service=servico)"
   ]
  },
  {
   "cell_type": "code",
   "execution_count": 32,
   "metadata": {},
   "outputs": [],
   "source": [
    "# Abrir o site\n",
    "navegador.get(\"https://dados.gov.br/dados/conjuntos-dados\")"
   ]
  },
  {
   "cell_type": "code",
   "execution_count": 33,
   "metadata": {},
   "outputs": [],
   "source": [
    "# Pesquisar elemento \n",
    "pesquisa = navegador.find_element(By.XPATH, '//*[@id=\"search2\"]')\n"
   ]
  },
  {
   "cell_type": "code",
   "execution_count": 34,
   "metadata": {},
   "outputs": [],
   "source": [
    "# Pesquisando elemento\n",
    "\n",
    "pesquisa.send_keys(\"Custo anual com serviços de terceiros\")\n",
    "\n",
    "time.sleep(5)\n",
    "\n",
    "pesquisa_button = navegador.find_element(By.XPATH, '/html/body/div/section/div/div[2]/div/div[1]/a/div/div[2]/p[1]/strong/a')\n",
    "pesquisa_button.click()\n",
    "\n",
    "time.sleep(5) "
   ]
  },
  {
   "cell_type": "code",
   "execution_count": 35,
   "metadata": {},
   "outputs": [],
   "source": [
    "# Selecionando resultado\n",
    "\n",
    "selecionar = navegador.find_element(By.XPATH, '/html/body/div/section/div/div[3]/div[2]/div/div/div[2]/div/header/button')\n",
    "selecionar.click()\n",
    "\n",
    "time.sleep(5) \n",
    "\n",
    "selecionar_1 = navegador.find_element(By.XPATH, '/html/body/div/section/div/div[3]/div[2]/div/div/div[2]/div/div/div/div/div/div[2]/span/div/div')\n",
    "selecionar_1.click()\n",
    "\n",
    "time.sleep(5)\n",
    "\n",
    "selecionar_2 = navegador.find_element(By.XPATH, '/html/body/div/section/div/div[3]/div[2]/div/div/div[2]/div/div/div/div/div/div[2]/span/div/div/ul')\n",
    "selecionar_2.click()\n",
    "\n",
    "time.sleep(5) \n",
    "\n"
   ]
  },
  {
   "cell_type": "code",
   "execution_count": 36,
   "metadata": {},
   "outputs": [],
   "source": [
    "# Especifique o caminho completo para a pasta de destino\n",
    "pasta_destino = \"F:/Documentos/07.PYTHON/\""
   ]
  },
  {
   "cell_type": "code",
   "execution_count": 37,
   "metadata": {},
   "outputs": [],
   "source": [
    "# Especifique o caminho dowloads\n",
    "pasta_download = \"C:/Users/Lucas Gomes/Downloads/\""
   ]
  },
  {
   "cell_type": "code",
   "execution_count": 38,
   "metadata": {},
   "outputs": [],
   "source": [
    "# Obtenha o nome do arquivo baixado (pode variar)\n",
    "\n",
    "previa_arquivo = \"conjunto-dados\"\n",
    "data = datetime.datetime.today() \n",
    "data_arquivo = data.strftime('_%d_%m_%Y')\n",
    "extensao = \".csv\"\n",
    "\n"
   ]
  },
  {
   "cell_type": "code",
   "execution_count": 39,
   "metadata": {},
   "outputs": [],
   "source": [
    "# Renomeando arquivo\n",
    "\n",
    "nome_arquivo = (f'{pasta_download}{previa_arquivo}{extensao}')\n",
    "novo_nome = (f'{pasta_download}{previa_arquivo}{data_arquivo}{extensao}')\n",
    "\n",
    "os.rename(nome_arquivo, novo_nome)"
   ]
  },
  {
   "cell_type": "code",
   "execution_count": 40,
   "metadata": {},
   "outputs": [],
   "source": [
    "# Combine os caminhos completos dos arquivos\n",
    "\n",
    "novo_nome = (f'{previa_arquivo}{data_arquivo}{extensao}')\n",
    "\n",
    "\n",
    "caminho_arquivo_origem = pasta_download + novo_nome\n",
    "caminho_arquivo_destino = pasta_destino + novo_nome"
   ]
  },
  {
   "cell_type": "code",
   "execution_count": 41,
   "metadata": {},
   "outputs": [
    {
     "data": {
      "text/plain": [
       "'F:/Documentos/07.PYTHON/conjunto-dados_15_10_2023.csv'"
      ]
     },
     "execution_count": 41,
     "metadata": {},
     "output_type": "execute_result"
    }
   ],
   "source": [
    "# Mova o arquivo para a pasta de destino\n",
    "shutil.move(caminho_arquivo_origem, caminho_arquivo_destino)"
   ]
  },
  {
   "cell_type": "code",
   "execution_count": 42,
   "metadata": {},
   "outputs": [],
   "source": [
    "# Fechar o navegador\n",
    "navegador.quit()"
   ]
  }
 ],
 "metadata": {
  "interpreter": {
   "hash": "713144d2bbbede84a1da11c85bed8fc4e42675ca1a53431544ec4ad4bc9f036f"
  },
  "kernelspec": {
   "display_name": "Python 3.11.4 64-bit",
   "language": "python",
   "name": "python3"
  },
  "language_info": {
   "codemirror_mode": {
    "name": "ipython",
    "version": 3
   },
   "file_extension": ".py",
   "mimetype": "text/x-python",
   "name": "python",
   "nbconvert_exporter": "python",
   "pygments_lexer": "ipython3",
   "version": "3.11.4"
  },
  "orig_nbformat": 4
 },
 "nbformat": 4,
 "nbformat_minor": 2
}
